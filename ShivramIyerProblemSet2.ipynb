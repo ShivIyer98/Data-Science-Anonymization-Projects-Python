{
 "cells": [
  {
   "cell_type": "markdown",
   "metadata": {},
   "source": [
    "# PSU DS 300.002: Problem Set 2\n",
    "## Differential Privacy"
   ]
  },
  {
   "cell_type": "markdown",
   "metadata": {},
   "source": [
    "### Instructions\n",
    "This assignment follows the same principles as our hands-on in-class activities, and centers around concepts we've discussed in our differential privacy module.\n",
    "\n",
    "To ensure that the notebook runs, I've defined a function your_code_here() that simply returns the number 1. Whenever you see a call to this function, you should replace it with code you have written. Please make sure all cells of your notebook run without error before submitting the assignment. If you have not completed all the questions, leave calls to your_code_here() in place or insert dummy values so that the cell does not throw an error when it runs.\n",
    "\n",
    "When answering non-code questions, feel free to use a comment, or put the cell in Markdown mode and use Markdown.\n",
    "The point value of each question is listed with the question, and these add up to 100 points. When you have finished your assignment, please submit it via Canvas."
   ]
  },
  {
   "cell_type": "markdown",
   "metadata": {},
   "source": [
    "### Preamble"
   ]
  },
  {
   "cell_type": "code",
   "execution_count": 1,
   "metadata": {},
   "outputs": [],
   "source": [
    "%matplotlib inline\n",
    "import matplotlib.pyplot as plt\n",
    "plt.style.use('seaborn-whitegrid')\n",
    "import pandas as pd\n",
    "import numpy as np\n",
    "\n",
    "# Our usual dataset\n",
    "\n",
    "adult_data = pd.read_csv(\"adult_with_pii.csv\")\n",
    "adult_data['DOB'] = pd.to_datetime(adult_data['DOB'], errors='coerce')\n",
    "adult_data.head()\n",
    "\n",
    "# Some useful utilities from earlier assignments\n",
    "\n",
    "def laplace_mech(v, sensitivity, epsilon):\n",
    "    return v + np.random.laplace(loc=0, scale=sensitivity / epsilon)\n",
    "\n",
    "def pct_error(orig, priv):\n",
    "    return np.abs(orig - priv)/orig * 100.0\n",
    "\n",
    "def your_code_here():\n",
    "    return 1"
   ]
  },
  {
   "cell_type": "markdown",
   "metadata": {},
   "source": [
    "## Collaboration Statement\n",
    "\n",
    "**You are expected to work indepdently on this assignment.** Everyone should write their *own code and responses*. You may collaborate with a classmate through *high level* discussions (only). To the extent that you do so, please describe this in the collaboration statment below."
   ]
  },
  {
   "cell_type": "code",
   "execution_count": 3,
   "metadata": {},
   "outputs": [],
   "source": [
    "# In this cell (in markdown or a comment) write your collaboration statement"
   ]
  },
  {
   "cell_type": "markdown",
   "metadata": {},
   "source": [
    "### Question 1 (1 point)"
   ]
  },
  {
   "cell_type": "markdown",
   "metadata": {},
   "source": [
    "Write code to answer the following query:\n",
    "\n",
    "`For each marital status in the census data, how many participants had that status?`\n",
    "\n",
    "*Note*: \"marital status\" is misspelled as `Martial Status` in the column names.\n",
    "\n",
    "*Hint*: use `unique()` to obtain the set of unique values in a column, and use `shape[0]` to count the number of rows in a dataframe."
   ]
  },
  {
   "cell_type": "code",
   "execution_count": 2,
   "metadata": {},
   "outputs": [
    {
     "data": {
      "text/html": [
       "<div>\n",
       "<style scoped>\n",
       "    .dataframe tbody tr th:only-of-type {\n",
       "        vertical-align: middle;\n",
       "    }\n",
       "\n",
       "    .dataframe tbody tr th {\n",
       "        vertical-align: top;\n",
       "    }\n",
       "\n",
       "    .dataframe thead th {\n",
       "        text-align: right;\n",
       "    }\n",
       "</style>\n",
       "<table border=\"1\" class=\"dataframe\">\n",
       "  <thead>\n",
       "    <tr style=\"text-align: right;\">\n",
       "      <th></th>\n",
       "      <th>Martial Status</th>\n",
       "    </tr>\n",
       "  </thead>\n",
       "  <tbody>\n",
       "    <tr>\n",
       "      <th>Married-civ-spouse</th>\n",
       "      <td>14976</td>\n",
       "    </tr>\n",
       "    <tr>\n",
       "      <th>Never-married</th>\n",
       "      <td>10683</td>\n",
       "    </tr>\n",
       "    <tr>\n",
       "      <th>Divorced</th>\n",
       "      <td>4443</td>\n",
       "    </tr>\n",
       "    <tr>\n",
       "      <th>Separated</th>\n",
       "      <td>1025</td>\n",
       "    </tr>\n",
       "    <tr>\n",
       "      <th>Widowed</th>\n",
       "      <td>993</td>\n",
       "    </tr>\n",
       "    <tr>\n",
       "      <th>Married-spouse-absent</th>\n",
       "      <td>418</td>\n",
       "    </tr>\n",
       "    <tr>\n",
       "      <th>Married-AF-spouse</th>\n",
       "      <td>23</td>\n",
       "    </tr>\n",
       "  </tbody>\n",
       "</table>\n",
       "</div>"
      ],
      "text/plain": [
       "                       Martial Status\n",
       "Married-civ-spouse              14976\n",
       "Never-married                   10683\n",
       "Divorced                         4443\n",
       "Separated                        1025\n",
       "Widowed                           993\n",
       "Married-spouse-absent             418\n",
       "Married-AF-spouse                  23"
      ]
     },
     "execution_count": 2,
     "metadata": {},
     "output_type": "execute_result"
    }
   ],
   "source": [
    "mar_status_counts = adult_data['Martial Status'].value_counts()\n",
    "mar_status_counts.to_frame()"
   ]
  },
  {
   "cell_type": "markdown",
   "metadata": {},
   "source": [
    "### Question 2 (3 points)\n",
    "\n",
    "Write code to return a differentially private version of your result from the last question. Use the definition of `laplace_mech` above."
   ]
  },
  {
   "cell_type": "code",
   "execution_count": 6,
   "metadata": {},
   "outputs": [
    {
     "data": {
      "text/html": [
       "<div>\n",
       "<style scoped>\n",
       "    .dataframe tbody tr th:only-of-type {\n",
       "        vertical-align: middle;\n",
       "    }\n",
       "\n",
       "    .dataframe tbody tr th {\n",
       "        vertical-align: top;\n",
       "    }\n",
       "\n",
       "    .dataframe thead th {\n",
       "        text-align: right;\n",
       "    }\n",
       "</style>\n",
       "<table border=\"1\" class=\"dataframe\">\n",
       "  <thead>\n",
       "    <tr style=\"text-align: right;\">\n",
       "      <th></th>\n",
       "      <th>Martial Status</th>\n",
       "    </tr>\n",
       "  </thead>\n",
       "  <tbody>\n",
       "    <tr>\n",
       "      <th>Married-civ-spouse</th>\n",
       "      <td>14975.593557</td>\n",
       "    </tr>\n",
       "    <tr>\n",
       "      <th>Never-married</th>\n",
       "      <td>10680.518054</td>\n",
       "    </tr>\n",
       "    <tr>\n",
       "      <th>Divorced</th>\n",
       "      <td>4442.862642</td>\n",
       "    </tr>\n",
       "    <tr>\n",
       "      <th>Separated</th>\n",
       "      <td>1025.052384</td>\n",
       "    </tr>\n",
       "    <tr>\n",
       "      <th>Widowed</th>\n",
       "      <td>993.152036</td>\n",
       "    </tr>\n",
       "    <tr>\n",
       "      <th>Married-spouse-absent</th>\n",
       "      <td>419.636128</td>\n",
       "    </tr>\n",
       "    <tr>\n",
       "      <th>Married-AF-spouse</th>\n",
       "      <td>21.895375</td>\n",
       "    </tr>\n",
       "  </tbody>\n",
       "</table>\n",
       "</div>"
      ],
      "text/plain": [
       "                       Martial Status\n",
       "Married-civ-spouse       14975.593557\n",
       "Never-married            10680.518054\n",
       "Divorced                  4442.862642\n",
       "Separated                 1025.052384\n",
       "Widowed                    993.152036\n",
       "Married-spouse-absent      419.636128\n",
       "Married-AF-spouse           21.895375"
      ]
     },
     "execution_count": 6,
     "metadata": {},
     "output_type": "execute_result"
    }
   ],
   "source": [
    "epsilon = 1\n",
    "laplace = lambda x: x + np.random.laplace(loc=0, scale=1/epsilon)\n",
    "dp_mar_stat = adult_data['Martial Status'].value_counts().apply(laplace)\n",
    "dp_mar_stat.to_frame()\n"
   ]
  },
  {
   "cell_type": "markdown",
   "metadata": {},
   "source": [
    "### Question 3 (3 points)\n",
    "\n",
    "In the cell below, answer the following in 3-5 sentences:\n",
    "- What is the privacy cost of your answer to the last question, and why?\n",
    "- Does it violate privacy to release the set of unique marital status categories (i.e. the \"histogram bin labels\"), as we do here? Why or why not? \n",
    "- Is the answer to the above point the same for every dataset?"
   ]
  },
  {
   "cell_type": "markdown",
   "metadata": {},
   "source": [
    "In the above differentially private count for marital status, the privacy cost is 1 since epsilon is equal to 1. An epsilon equal to 1 is beneifical since this would yield more accurate results. No, it does not violate privacy since it does not specifically identify individuals. It is just a generalized count of individuals with that marital status, and most individuals (including those outside the dataset) fit in one of those categories. This would not apply to all data sets since in this case most individuals fit in to one of the marital status categories. Some data sets include attributes that are more exclusive and would therefore potentially reveal specific individuals. "
   ]
  },
  {
   "cell_type": "markdown",
   "metadata": {},
   "source": [
    "### Question 4 (5 points)\n",
    "\n",
    "Fill in the following code block to produce graphs of the percent error introduced for each count. Your code should compute 100 differentially private answers for each marital status, then run `pct_error` on each answer to compute the percent error of that answer. The remaining code will plot histograms of the results for each status."
   ]
  },
  {
   "cell_type": "code",
   "execution_count": 6,
   "metadata": {},
   "outputs": [
    {
     "data": {
      "image/png": "[encoded data removed]",
      "text/plain": [
       "<Figure size 720x720 with 7 Axes>"
      ]
     },
     "metadata": {},
     "output_type": "display_data"
    }
   ],
   "source": [
    "fig = plt.figure(figsize = (10,10))\n",
    "\n",
    "dom = adult_data['Martial Status'].unique()\n",
    "for status,num in zip(dom, range(1, len(dom)+1)):\n",
    "    orig_vals = [mar_status_counts[status] for x in range(100)]\n",
    "    errors = [pct_error(x, laplace(x)) for x in orig_vals]\n",
    "    ax = fig.add_subplot(4,2,num)\n",
    "    ax.hist(errors, bins=10)\n",
    "    ax.set_title(status)\n",
    "\n",
    "plt.tight_layout()\n",
    "plt.show()"
   ]
  },
  {
   "cell_type": "markdown",
   "metadata": {},
   "source": [
    "### Question 5 (3 points)\n",
    "\n",
    "In 3-5 sentences, answer the following:\n",
    "- Which marital status tends to have the largest error? Which one has the smallest error?\n",
    "- What is the reason for this discrepency?\n",
    "- Describe a rule of thumb for deciding when a differentially private counting query will yield an accurate result."
   ]
  },
  {
   "cell_type": "markdown",
   "metadata": {},
   "source": [
    "The marital status with the largest percent error is Married-AF-spouse and the marital status with the smallest percent error is Married-civ-spouse. A potential reason for this discrepancy is that Married-civ-spouse has the highest count and Married-AF-spouse has the lowest count. A potential rule of thumb could be that while epsilon is a larger count will typically yield a more accurate result.  "
   ]
  },
  {
   "cell_type": "markdown",
   "metadata": {},
   "source": [
    "### Question 6 (2 points)\n",
    "\n",
    "Build a [contingency table](https://en.wikipedia.org/wiki/Contingency_table) between the `Martial Status` and `Sex` columns of the `adult_data` dataframe.\n",
    "\n",
    "*Note*: \"marital status\" is misspelled as `Martial Status` in the column names.\n",
    "\n",
    "*Hint*: use `pd.crosstab(..., ...)` (documentation [here](https://pandas.pydata.org/pandas-docs/stable/generated/pandas.crosstab.html))."
   ]
  },
  {
   "cell_type": "code",
   "execution_count": 7,
   "metadata": {},
   "outputs": [
    {
     "data": {
      "text/html": [
       "<div>\n",
       "<style scoped>\n",
       "    .dataframe tbody tr th:only-of-type {\n",
       "        vertical-align: middle;\n",
       "    }\n",
       "\n",
       "    .dataframe tbody tr th {\n",
       "        vertical-align: top;\n",
       "    }\n",
       "\n",
       "    .dataframe thead th {\n",
       "        text-align: right;\n",
       "    }\n",
       "</style>\n",
       "<table border=\"1\" class=\"dataframe\">\n",
       "  <thead>\n",
       "    <tr style=\"text-align: right;\">\n",
       "      <th>Sex</th>\n",
       "      <th>Female</th>\n",
       "      <th>Male</th>\n",
       "    </tr>\n",
       "    <tr>\n",
       "      <th>Martial Status</th>\n",
       "      <th></th>\n",
       "      <th></th>\n",
       "    </tr>\n",
       "  </thead>\n",
       "  <tbody>\n",
       "    <tr>\n",
       "      <th>Divorced</th>\n",
       "      <td>2672</td>\n",
       "      <td>1771</td>\n",
       "    </tr>\n",
       "    <tr>\n",
       "      <th>Married-AF-spouse</th>\n",
       "      <td>14</td>\n",
       "      <td>9</td>\n",
       "    </tr>\n",
       "    <tr>\n",
       "      <th>Married-civ-spouse</th>\n",
       "      <td>1657</td>\n",
       "      <td>13319</td>\n",
       "    </tr>\n",
       "    <tr>\n",
       "      <th>Married-spouse-absent</th>\n",
       "      <td>205</td>\n",
       "      <td>213</td>\n",
       "    </tr>\n",
       "    <tr>\n",
       "      <th>Never-married</th>\n",
       "      <td>4767</td>\n",
       "      <td>5916</td>\n",
       "    </tr>\n",
       "    <tr>\n",
       "      <th>Separated</th>\n",
       "      <td>631</td>\n",
       "      <td>394</td>\n",
       "    </tr>\n",
       "    <tr>\n",
       "      <th>Widowed</th>\n",
       "      <td>825</td>\n",
       "      <td>168</td>\n",
       "    </tr>\n",
       "  </tbody>\n",
       "</table>\n",
       "</div>"
      ],
      "text/plain": [
       "Sex                    Female   Male\n",
       "Martial Status                      \n",
       "Divorced                 2672   1771\n",
       "Married-AF-spouse          14      9\n",
       "Married-civ-spouse       1657  13319\n",
       "Married-spouse-absent     205    213\n",
       "Never-married            4767   5916\n",
       "Separated                 631    394\n",
       "Widowed                   825    168"
      ]
     },
     "execution_count": 7,
     "metadata": {},
     "output_type": "execute_result"
    }
   ],
   "source": [
    "Ctable_MarStat_Sex = pd.crosstab(adult_data['Martial Status'], adult_data['Sex'])\n",
    "Ctable_MarStat_Sex"
   ]
  },
  {
   "cell_type": "markdown",
   "metadata": {},
   "source": [
    "### Question 7 (3 points)\n",
    "\n",
    "Write code to build a differentially private version of your result from the last question.\n",
    "\n",
    "*Hint*: use `applymap`."
   ]
  },
  {
   "cell_type": "code",
   "execution_count": 8,
   "metadata": {},
   "outputs": [
    {
     "data": {
      "text/html": [
       "<div>\n",
       "<style scoped>\n",
       "    .dataframe tbody tr th:only-of-type {\n",
       "        vertical-align: middle;\n",
       "    }\n",
       "\n",
       "    .dataframe tbody tr th {\n",
       "        vertical-align: top;\n",
       "    }\n",
       "\n",
       "    .dataframe thead th {\n",
       "        text-align: right;\n",
       "    }\n",
       "</style>\n",
       "<table border=\"1\" class=\"dataframe\">\n",
       "  <thead>\n",
       "    <tr style=\"text-align: right;\">\n",
       "      <th>Sex</th>\n",
       "      <th>Female</th>\n",
       "      <th>Male</th>\n",
       "    </tr>\n",
       "    <tr>\n",
       "      <th>Martial Status</th>\n",
       "      <th></th>\n",
       "      <th></th>\n",
       "    </tr>\n",
       "  </thead>\n",
       "  <tbody>\n",
       "    <tr>\n",
       "      <th>Divorced</th>\n",
       "      <td>2672.041820</td>\n",
       "      <td>1771.177608</td>\n",
       "    </tr>\n",
       "    <tr>\n",
       "      <th>Married-AF-spouse</th>\n",
       "      <td>13.603838</td>\n",
       "      <td>8.251043</td>\n",
       "    </tr>\n",
       "    <tr>\n",
       "      <th>Married-civ-spouse</th>\n",
       "      <td>1656.559788</td>\n",
       "      <td>13319.064710</td>\n",
       "    </tr>\n",
       "    <tr>\n",
       "      <th>Married-spouse-absent</th>\n",
       "      <td>206.797983</td>\n",
       "      <td>213.314445</td>\n",
       "    </tr>\n",
       "    <tr>\n",
       "      <th>Never-married</th>\n",
       "      <td>4766.363125</td>\n",
       "      <td>5915.967318</td>\n",
       "    </tr>\n",
       "    <tr>\n",
       "      <th>Separated</th>\n",
       "      <td>633.037618</td>\n",
       "      <td>395.303922</td>\n",
       "    </tr>\n",
       "    <tr>\n",
       "      <th>Widowed</th>\n",
       "      <td>826.308565</td>\n",
       "      <td>166.616265</td>\n",
       "    </tr>\n",
       "  </tbody>\n",
       "</table>\n",
       "</div>"
      ],
      "text/plain": [
       "Sex                         Female          Male\n",
       "Martial Status                                  \n",
       "Divorced               2672.041820   1771.177608\n",
       "Married-AF-spouse        13.603838      8.251043\n",
       "Married-civ-spouse     1656.559788  13319.064710\n",
       "Married-spouse-absent   206.797983    213.314445\n",
       "Never-married          4766.363125   5915.967318\n",
       "Separated               633.037618    395.303922\n",
       "Widowed                 826.308565    166.616265"
      ]
     },
     "execution_count": 8,
     "metadata": {},
     "output_type": "execute_result"
    }
   ],
   "source": [
    "dp_Ctable_MarStat_Sex = Ctable_MarStat_Sex.applymap(laplace)\n",
    "dp_Ctable_MarStat_Sex"
   ]
  },
  {
   "cell_type": "markdown",
   "metadata": {},
   "source": [
    "### Question 8 (5 points)\n",
    "\n",
    "Write code to display a table containing percent errors for each of the cells in your answer to the last question.\n",
    "\n",
    "*Hint*: use `applymap` and `pct_error` on your answer to the last question."
   ]
  },
  {
   "cell_type": "code",
   "execution_count": 9,
   "metadata": {},
   "outputs": [
    {
     "data": {
      "text/html": [
       "<div>\n",
       "<style scoped>\n",
       "    .dataframe tbody tr th:only-of-type {\n",
       "        vertical-align: middle;\n",
       "    }\n",
       "\n",
       "    .dataframe tbody tr th {\n",
       "        vertical-align: top;\n",
       "    }\n",
       "\n",
       "    .dataframe thead th {\n",
       "        text-align: right;\n",
       "    }\n",
       "</style>\n",
       "<table border=\"1\" class=\"dataframe\">\n",
       "  <thead>\n",
       "    <tr style=\"text-align: right;\">\n",
       "      <th>Sex</th>\n",
       "      <th>Female</th>\n",
       "      <th>Male</th>\n",
       "    </tr>\n",
       "    <tr>\n",
       "      <th>Martial Status</th>\n",
       "      <th></th>\n",
       "      <th></th>\n",
       "    </tr>\n",
       "  </thead>\n",
       "  <tbody>\n",
       "    <tr>\n",
       "      <th>Divorced</th>\n",
       "      <td>0.001565</td>\n",
       "      <td>0.010029</td>\n",
       "    </tr>\n",
       "    <tr>\n",
       "      <th>Married-AF-spouse</th>\n",
       "      <td>2.829731</td>\n",
       "      <td>8.321745</td>\n",
       "    </tr>\n",
       "    <tr>\n",
       "      <th>Married-civ-spouse</th>\n",
       "      <td>0.026567</td>\n",
       "      <td>0.000486</td>\n",
       "    </tr>\n",
       "    <tr>\n",
       "      <th>Married-spouse-absent</th>\n",
       "      <td>0.877065</td>\n",
       "      <td>0.147627</td>\n",
       "    </tr>\n",
       "    <tr>\n",
       "      <th>Never-married</th>\n",
       "      <td>0.013360</td>\n",
       "      <td>0.000552</td>\n",
       "    </tr>\n",
       "    <tr>\n",
       "      <th>Separated</th>\n",
       "      <td>0.322919</td>\n",
       "      <td>0.330945</td>\n",
       "    </tr>\n",
       "    <tr>\n",
       "      <th>Widowed</th>\n",
       "      <td>0.158614</td>\n",
       "      <td>0.823652</td>\n",
       "    </tr>\n",
       "  </tbody>\n",
       "</table>\n",
       "</div>"
      ],
      "text/plain": [
       "Sex                      Female      Male\n",
       "Martial Status                           \n",
       "Divorced               0.001565  0.010029\n",
       "Married-AF-spouse      2.829731  8.321745\n",
       "Married-civ-spouse     0.026567  0.000486\n",
       "Married-spouse-absent  0.877065  0.147627\n",
       "Never-married          0.013360  0.000552\n",
       "Separated              0.322919  0.330945\n",
       "Widowed                0.158614  0.823652"
      ]
     },
     "execution_count": 9,
     "metadata": {},
     "output_type": "execute_result"
    }
   ],
   "source": [
    "pct_error(Ctable_MarStat_Sex, dp_Ctable_MarStat_Sex)"
   ]
  },
  {
   "cell_type": "markdown",
   "metadata": {},
   "source": [
    "### Question 9 (3 points)\n",
    "\n",
    "In 3-5 sentences, answer the following:\n",
    "- What is the privacy cost of your answer to the last question?\n",
    "- For which cells does your solution produce accurate results? For which cells does it produce results with high error?"
   ]
  },
  {
   "cell_type": "markdown",
   "metadata": {},
   "source": [
    "The privacy cost of the last question is 1 since this is what we set our epsilon equal to. Also the attributes are mutually exclusive and therefore are not sequential composition. Just to clarify, an epsilon of 1 yields more accurate differentially private results so utility is preserved. Accurate results are produced for Male and Female Married-civ-spouse, Female and Male Never-married, Male Seperated, Male Widowed, and Female and Male Divorced. High error results are produced for Female and Male Married-AF-spouse, Female and Male Married-spouse-absent, and Female Widowed. "
   ]
  },
  {
   "cell_type": "markdown",
   "metadata": {},
   "source": [
    "### Question 10 (5 points)\n",
    "\n",
    "Write code to produce a differentially private contingency table for three variables: `Martial Status`, `Sex`, and `Education`. Also write code to display the percent error for each cell in your table.\n",
    "\n",
    "*Hint*: see the documentation of `crosstab` for an example of a 3-variable contingency table."
   ]
  },
  {
   "cell_type": "code",
   "execution_count": 10,
   "metadata": {},
   "outputs": [
    {
     "data": {
      "text/html": [
       "<div>\n",
       "<style scoped>\n",
       "    .dataframe tbody tr th:only-of-type {\n",
       "        vertical-align: middle;\n",
       "    }\n",
       "\n",
       "    .dataframe tbody tr th {\n",
       "        vertical-align: top;\n",
       "    }\n",
       "\n",
       "    .dataframe thead tr th {\n",
       "        text-align: left;\n",
       "    }\n",
       "\n",
       "    .dataframe thead tr:last-of-type th {\n",
       "        text-align: right;\n",
       "    }\n",
       "</style>\n",
       "<table border=\"1\" class=\"dataframe\">\n",
       "  <thead>\n",
       "    <tr>\n",
       "      <th>Sex</th>\n",
       "      <th colspan=\"10\" halign=\"left\">Female</th>\n",
       "      <th>...</th>\n",
       "      <th colspan=\"10\" halign=\"left\">Male</th>\n",
       "    </tr>\n",
       "    <tr>\n",
       "      <th>Education</th>\n",
       "      <th>10th</th>\n",
       "      <th>11th</th>\n",
       "      <th>12th</th>\n",
       "      <th>1st-4th</th>\n",
       "      <th>5th-6th</th>\n",
       "      <th>7th-8th</th>\n",
       "      <th>9th</th>\n",
       "      <th>Assoc-acdm</th>\n",
       "      <th>Assoc-voc</th>\n",
       "      <th>Bachelors</th>\n",
       "      <th>...</th>\n",
       "      <th>9th</th>\n",
       "      <th>Assoc-acdm</th>\n",
       "      <th>Assoc-voc</th>\n",
       "      <th>Bachelors</th>\n",
       "      <th>Doctorate</th>\n",
       "      <th>HS-grad</th>\n",
       "      <th>Masters</th>\n",
       "      <th>Preschool</th>\n",
       "      <th>Prof-school</th>\n",
       "      <th>Some-college</th>\n",
       "    </tr>\n",
       "    <tr>\n",
       "      <th>Martial Status</th>\n",
       "      <th></th>\n",
       "      <th></th>\n",
       "      <th></th>\n",
       "      <th></th>\n",
       "      <th></th>\n",
       "      <th></th>\n",
       "      <th></th>\n",
       "      <th></th>\n",
       "      <th></th>\n",
       "      <th></th>\n",
       "      <th></th>\n",
       "      <th></th>\n",
       "      <th></th>\n",
       "      <th></th>\n",
       "      <th></th>\n",
       "      <th></th>\n",
       "      <th></th>\n",
       "      <th></th>\n",
       "      <th></th>\n",
       "      <th></th>\n",
       "      <th></th>\n",
       "    </tr>\n",
       "  </thead>\n",
       "  <tbody>\n",
       "    <tr>\n",
       "      <th>Divorced</th>\n",
       "      <td>67.198264</td>\n",
       "      <td>78.769284</td>\n",
       "      <td>18.881678</td>\n",
       "      <td>5.210442</td>\n",
       "      <td>9.989843</td>\n",
       "      <td>33.546771</td>\n",
       "      <td>33.109127</td>\n",
       "      <td>134.506287</td>\n",
       "      <td>152.180882</td>\n",
       "      <td>296.289094</td>\n",
       "      <td>...</td>\n",
       "      <td>29.811409</td>\n",
       "      <td>64.859986</td>\n",
       "      <td>79.628188</td>\n",
       "      <td>250.915858</td>\n",
       "      <td>12.655381</td>\n",
       "      <td>673.626557</td>\n",
       "      <td>84.674830</td>\n",
       "      <td>1.353558</td>\n",
       "      <td>34.313472</td>\n",
       "      <td>357.003593</td>\n",
       "    </tr>\n",
       "    <tr>\n",
       "      <th>Married-AF-spouse</th>\n",
       "      <td>-0.989059</td>\n",
       "      <td>-0.070111</td>\n",
       "      <td>-0.269197</td>\n",
       "      <td>-2.560515</td>\n",
       "      <td>2.234645</td>\n",
       "      <td>0.108792</td>\n",
       "      <td>-1.184894</td>\n",
       "      <td>1.942430</td>\n",
       "      <td>1.240721</td>\n",
       "      <td>0.179259</td>\n",
       "      <td>...</td>\n",
       "      <td>0.233703</td>\n",
       "      <td>-0.335696</td>\n",
       "      <td>0.529939</td>\n",
       "      <td>2.510502</td>\n",
       "      <td>-2.010803</td>\n",
       "      <td>4.892631</td>\n",
       "      <td>0.240049</td>\n",
       "      <td>-0.847607</td>\n",
       "      <td>2.088028</td>\n",
       "      <td>2.045148</td>\n",
       "    </tr>\n",
       "    <tr>\n",
       "      <th>Married-civ-spouse</th>\n",
       "      <td>35.007992</td>\n",
       "      <td>35.009393</td>\n",
       "      <td>19.174489</td>\n",
       "      <td>6.343591</td>\n",
       "      <td>18.732608</td>\n",
       "      <td>19.270559</td>\n",
       "      <td>24.966108</td>\n",
       "      <td>77.349325</td>\n",
       "      <td>90.688259</td>\n",
       "      <td>310.581457</td>\n",
       "      <td>...</td>\n",
       "      <td>206.493700</td>\n",
       "      <td>382.876513</td>\n",
       "      <td>596.164794</td>\n",
       "      <td>2457.180151</td>\n",
       "      <td>266.178704</td>\n",
       "      <td>4311.835448</td>\n",
       "      <td>890.518626</td>\n",
       "      <td>17.040935</td>\n",
       "      <td>388.148974</td>\n",
       "      <td>2496.179028</td>\n",
       "    </tr>\n",
       "    <tr>\n",
       "      <th>Married-spouse-absent</th>\n",
       "      <td>7.221895</td>\n",
       "      <td>8.583191</td>\n",
       "      <td>3.861284</td>\n",
       "      <td>1.783529</td>\n",
       "      <td>6.960529</td>\n",
       "      <td>6.150811</td>\n",
       "      <td>1.606611</td>\n",
       "      <td>7.898391</td>\n",
       "      <td>8.389524</td>\n",
       "      <td>31.318230</td>\n",
       "      <td>...</td>\n",
       "      <td>4.457197</td>\n",
       "      <td>6.089154</td>\n",
       "      <td>2.202514</td>\n",
       "      <td>36.552503</td>\n",
       "      <td>3.413630</td>\n",
       "      <td>59.652885</td>\n",
       "      <td>7.542773</td>\n",
       "      <td>4.820585</td>\n",
       "      <td>1.433800</td>\n",
       "      <td>31.450166</td>\n",
       "    </tr>\n",
       "    <tr>\n",
       "      <th>Never-married</th>\n",
       "      <td>127.987434</td>\n",
       "      <td>247.319138</td>\n",
       "      <td>83.909936</td>\n",
       "      <td>10.194242</td>\n",
       "      <td>29.657872</td>\n",
       "      <td>33.276290</td>\n",
       "      <td>51.125910</td>\n",
       "      <td>160.334946</td>\n",
       "      <td>176.149043</td>\n",
       "      <td>868.655929</td>\n",
       "      <td>...</td>\n",
       "      <td>104.645739</td>\n",
       "      <td>177.257196</td>\n",
       "      <td>184.239422</td>\n",
       "      <td>926.567136</td>\n",
       "      <td>37.222923</td>\n",
       "      <td>1854.163876</td>\n",
       "      <td>187.971964</td>\n",
       "      <td>11.872392</td>\n",
       "      <td>56.056834</td>\n",
       "      <td>1491.415014</td>\n",
       "    </tr>\n",
       "    <tr>\n",
       "      <th>Separated</th>\n",
       "      <td>31.649824</td>\n",
       "      <td>27.069367</td>\n",
       "      <td>12.417356</td>\n",
       "      <td>5.048714</td>\n",
       "      <td>10.911700</td>\n",
       "      <td>13.849986</td>\n",
       "      <td>19.683594</td>\n",
       "      <td>15.616908</td>\n",
       "      <td>26.516251</td>\n",
       "      <td>46.327629</td>\n",
       "      <td>...</td>\n",
       "      <td>17.919503</td>\n",
       "      <td>13.863330</td>\n",
       "      <td>12.200780</td>\n",
       "      <td>45.166873</td>\n",
       "      <td>3.301814</td>\n",
       "      <td>137.486060</td>\n",
       "      <td>9.301980</td>\n",
       "      <td>-0.760160</td>\n",
       "      <td>5.089947</td>\n",
       "      <td>89.995570</td>\n",
       "    </tr>\n",
       "    <tr>\n",
       "      <th>Widowed</th>\n",
       "      <td>30.291359</td>\n",
       "      <td>34.128066</td>\n",
       "      <td>8.656469</td>\n",
       "      <td>14.291724</td>\n",
       "      <td>10.983040</td>\n",
       "      <td>50.314434</td>\n",
       "      <td>16.897675</td>\n",
       "      <td>21.427775</td>\n",
       "      <td>38.534833</td>\n",
       "      <td>63.003959</td>\n",
       "      <td>...</td>\n",
       "      <td>7.073341</td>\n",
       "      <td>1.614307</td>\n",
       "      <td>1.489658</td>\n",
       "      <td>18.257170</td>\n",
       "      <td>-0.335987</td>\n",
       "      <td>66.919391</td>\n",
       "      <td>8.649560</td>\n",
       "      <td>0.424521</td>\n",
       "      <td>3.891402</td>\n",
       "      <td>20.880105</td>\n",
       "    </tr>\n",
       "  </tbody>\n",
       "</table>\n",
       "<p>7 rows × 32 columns</p>\n",
       "</div>"
      ],
      "text/plain": [
       "Sex                        Female                                    \\\n",
       "Education                    10th        11th       12th    1st-4th   \n",
       "Martial Status                                                        \n",
       "Divorced                67.198264   78.769284  18.881678   5.210442   \n",
       "Married-AF-spouse       -0.989059   -0.070111  -0.269197  -2.560515   \n",
       "Married-civ-spouse      35.007992   35.009393  19.174489   6.343591   \n",
       "Married-spouse-absent    7.221895    8.583191   3.861284   1.783529   \n",
       "Never-married          127.987434  247.319138  83.909936  10.194242   \n",
       "Separated               31.649824   27.069367  12.417356   5.048714   \n",
       "Widowed                 30.291359   34.128066   8.656469  14.291724   \n",
       "\n",
       "Sex                                                                 \\\n",
       "Education                5th-6th    7th-8th        9th  Assoc-acdm   \n",
       "Martial Status                                                       \n",
       "Divorced                9.989843  33.546771  33.109127  134.506287   \n",
       "Married-AF-spouse       2.234645   0.108792  -1.184894    1.942430   \n",
       "Married-civ-spouse     18.732608  19.270559  24.966108   77.349325   \n",
       "Married-spouse-absent   6.960529   6.150811   1.606611    7.898391   \n",
       "Never-married          29.657872  33.276290  51.125910  160.334946   \n",
       "Separated              10.911700  13.849986  19.683594   15.616908   \n",
       "Widowed                10.983040  50.314434  16.897675   21.427775   \n",
       "\n",
       "Sex                                            ...        Male              \\\n",
       "Education               Assoc-voc   Bachelors  ...         9th  Assoc-acdm   \n",
       "Martial Status                                 ...                           \n",
       "Divorced               152.180882  296.289094  ...   29.811409   64.859986   \n",
       "Married-AF-spouse        1.240721    0.179259  ...    0.233703   -0.335696   \n",
       "Married-civ-spouse      90.688259  310.581457  ...  206.493700  382.876513   \n",
       "Married-spouse-absent    8.389524   31.318230  ...    4.457197    6.089154   \n",
       "Never-married          176.149043  868.655929  ...  104.645739  177.257196   \n",
       "Separated               26.516251   46.327629  ...   17.919503   13.863330   \n",
       "Widowed                 38.534833   63.003959  ...    7.073341    1.614307   \n",
       "\n",
       "Sex                                                                      \\\n",
       "Education               Assoc-voc    Bachelors   Doctorate      HS-grad   \n",
       "Martial Status                                                            \n",
       "Divorced                79.628188   250.915858   12.655381   673.626557   \n",
       "Married-AF-spouse        0.529939     2.510502   -2.010803     4.892631   \n",
       "Married-civ-spouse     596.164794  2457.180151  266.178704  4311.835448   \n",
       "Married-spouse-absent    2.202514    36.552503    3.413630    59.652885   \n",
       "Never-married          184.239422   926.567136   37.222923  1854.163876   \n",
       "Separated               12.200780    45.166873    3.301814   137.486060   \n",
       "Widowed                  1.489658    18.257170   -0.335987    66.919391   \n",
       "\n",
       "Sex                                                                    \n",
       "Education                 Masters  Preschool Prof-school Some-college  \n",
       "Martial Status                                                         \n",
       "Divorced                84.674830   1.353558   34.313472   357.003593  \n",
       "Married-AF-spouse        0.240049  -0.847607    2.088028     2.045148  \n",
       "Married-civ-spouse     890.518626  17.040935  388.148974  2496.179028  \n",
       "Married-spouse-absent    7.542773   4.820585    1.433800    31.450166  \n",
       "Never-married          187.971964  11.872392   56.056834  1491.415014  \n",
       "Separated                9.301980  -0.760160    5.089947    89.995570  \n",
       "Widowed                  8.649560   0.424521    3.891402    20.880105  \n",
       "\n",
       "[7 rows x 32 columns]"
      ]
     },
     "metadata": {},
     "output_type": "display_data"
    },
    {
     "data": {
      "text/html": [
       "<div>\n",
       "<style scoped>\n",
       "    .dataframe tbody tr th:only-of-type {\n",
       "        vertical-align: middle;\n",
       "    }\n",
       "\n",
       "    .dataframe tbody tr th {\n",
       "        vertical-align: top;\n",
       "    }\n",
       "\n",
       "    .dataframe thead tr th {\n",
       "        text-align: left;\n",
       "    }\n",
       "\n",
       "    .dataframe thead tr:last-of-type th {\n",
       "        text-align: right;\n",
       "    }\n",
       "</style>\n",
       "<table border=\"1\" class=\"dataframe\">\n",
       "  <thead>\n",
       "    <tr>\n",
       "      <th>Sex</th>\n",
       "      <th colspan=\"10\" halign=\"left\">Female</th>\n",
       "      <th>...</th>\n",
       "      <th colspan=\"10\" halign=\"left\">Male</th>\n",
       "    </tr>\n",
       "    <tr>\n",
       "      <th>Education</th>\n",
       "      <th>10th</th>\n",
       "      <th>11th</th>\n",
       "      <th>12th</th>\n",
       "      <th>1st-4th</th>\n",
       "      <th>5th-6th</th>\n",
       "      <th>7th-8th</th>\n",
       "      <th>9th</th>\n",
       "      <th>Assoc-acdm</th>\n",
       "      <th>Assoc-voc</th>\n",
       "      <th>Bachelors</th>\n",
       "      <th>...</th>\n",
       "      <th>9th</th>\n",
       "      <th>Assoc-acdm</th>\n",
       "      <th>Assoc-voc</th>\n",
       "      <th>Bachelors</th>\n",
       "      <th>Doctorate</th>\n",
       "      <th>HS-grad</th>\n",
       "      <th>Masters</th>\n",
       "      <th>Preschool</th>\n",
       "      <th>Prof-school</th>\n",
       "      <th>Some-college</th>\n",
       "    </tr>\n",
       "    <tr>\n",
       "      <th>Martial Status</th>\n",
       "      <th></th>\n",
       "      <th></th>\n",
       "      <th></th>\n",
       "      <th></th>\n",
       "      <th></th>\n",
       "      <th></th>\n",
       "      <th></th>\n",
       "      <th></th>\n",
       "      <th></th>\n",
       "      <th></th>\n",
       "      <th></th>\n",
       "      <th></th>\n",
       "      <th></th>\n",
       "      <th></th>\n",
       "      <th></th>\n",
       "      <th></th>\n",
       "      <th></th>\n",
       "      <th></th>\n",
       "      <th></th>\n",
       "      <th></th>\n",
       "      <th></th>\n",
       "    </tr>\n",
       "  </thead>\n",
       "  <tbody>\n",
       "    <tr>\n",
       "      <th>Divorced</th>\n",
       "      <td>0.295917</td>\n",
       "      <td>0.292046</td>\n",
       "      <td>11.068693</td>\n",
       "      <td>4.208841</td>\n",
       "      <td>0.101567</td>\n",
       "      <td>1.656882</td>\n",
       "      <td>5.402493</td>\n",
       "      <td>1.098319</td>\n",
       "      <td>0.535371</td>\n",
       "      <td>0.436981</td>\n",
       "      <td>...</td>\n",
       "      <td>2.797964</td>\n",
       "      <td>3.194051</td>\n",
       "      <td>1.693595</td>\n",
       "      <td>0.033523</td>\n",
       "      <td>2.650914</td>\n",
       "      <td>0.351101</td>\n",
       "      <td>5.843538</td>\n",
       "      <td>35.355751</td>\n",
       "      <td>0.921977</td>\n",
       "      <td>0.278326</td>\n",
       "    </tr>\n",
       "    <tr>\n",
       "      <th>Married-AF-spouse</th>\n",
       "      <td>inf</td>\n",
       "      <td>inf</td>\n",
       "      <td>inf</td>\n",
       "      <td>inf</td>\n",
       "      <td>inf</td>\n",
       "      <td>inf</td>\n",
       "      <td>inf</td>\n",
       "      <td>2.878480</td>\n",
       "      <td>inf</td>\n",
       "      <td>91.037027</td>\n",
       "      <td>...</td>\n",
       "      <td>inf</td>\n",
       "      <td>inf</td>\n",
       "      <td>47.006098</td>\n",
       "      <td>25.525092</td>\n",
       "      <td>inf</td>\n",
       "      <td>2.147387</td>\n",
       "      <td>inf</td>\n",
       "      <td>inf</td>\n",
       "      <td>inf</td>\n",
       "      <td>104.514835</td>\n",
       "    </tr>\n",
       "    <tr>\n",
       "      <th>Married-civ-spouse</th>\n",
       "      <td>6.084824</td>\n",
       "      <td>0.026836</td>\n",
       "      <td>4.127556</td>\n",
       "      <td>5.726525</td>\n",
       "      <td>4.070045</td>\n",
       "      <td>16.214961</td>\n",
       "      <td>13.482307</td>\n",
       "      <td>0.453669</td>\n",
       "      <td>2.485743</td>\n",
       "      <td>0.134580</td>\n",
       "      <td>...</td>\n",
       "      <td>0.724183</td>\n",
       "      <td>0.032242</td>\n",
       "      <td>0.027650</td>\n",
       "      <td>0.007332</td>\n",
       "      <td>0.067182</td>\n",
       "      <td>0.003816</td>\n",
       "      <td>0.058273</td>\n",
       "      <td>0.240793</td>\n",
       "      <td>0.817915</td>\n",
       "      <td>0.047256</td>\n",
       "    </tr>\n",
       "    <tr>\n",
       "      <th>Married-spouse-absent</th>\n",
       "      <td>3.169931</td>\n",
       "      <td>22.617021</td>\n",
       "      <td>3.467896</td>\n",
       "      <td>40.549037</td>\n",
       "      <td>39.210574</td>\n",
       "      <td>2.513525</td>\n",
       "      <td>46.446290</td>\n",
       "      <td>1.270107</td>\n",
       "      <td>4.869045</td>\n",
       "      <td>2.130532</td>\n",
       "      <td>...</td>\n",
       "      <td>25.713382</td>\n",
       "      <td>52.228851</td>\n",
       "      <td>55.949729</td>\n",
       "      <td>1.534732</td>\n",
       "      <td>14.659241</td>\n",
       "      <td>2.849801</td>\n",
       "      <td>5.715333</td>\n",
       "      <td>20.514625</td>\n",
       "      <td>28.310024</td>\n",
       "      <td>4.833888</td>\n",
       "    </tr>\n",
       "    <tr>\n",
       "      <th>Never-married</th>\n",
       "      <td>0.009817</td>\n",
       "      <td>0.274541</td>\n",
       "      <td>0.107219</td>\n",
       "      <td>15.047981</td>\n",
       "      <td>2.268523</td>\n",
       "      <td>2.128559</td>\n",
       "      <td>2.251820</td>\n",
       "      <td>0.413077</td>\n",
       "      <td>1.039864</td>\n",
       "      <td>0.039594</td>\n",
       "      <td>...</td>\n",
       "      <td>0.337392</td>\n",
       "      <td>0.714316</td>\n",
       "      <td>0.130120</td>\n",
       "      <td>0.061246</td>\n",
       "      <td>2.044941</td>\n",
       "      <td>0.008839</td>\n",
       "      <td>0.014913</td>\n",
       "      <td>1.063404</td>\n",
       "      <td>0.101489</td>\n",
       "      <td>0.039208</td>\n",
       "    </tr>\n",
       "    <tr>\n",
       "      <th>Separated</th>\n",
       "      <td>2.096206</td>\n",
       "      <td>3.323689</td>\n",
       "      <td>3.477968</td>\n",
       "      <td>0.974281</td>\n",
       "      <td>0.802723</td>\n",
       "      <td>6.538355</td>\n",
       "      <td>15.785849</td>\n",
       "      <td>2.394327</td>\n",
       "      <td>8.564653</td>\n",
       "      <td>0.712238</td>\n",
       "      <td>...</td>\n",
       "      <td>11.996893</td>\n",
       "      <td>0.976216</td>\n",
       "      <td>6.147848</td>\n",
       "      <td>1.811145</td>\n",
       "      <td>10.060460</td>\n",
       "      <td>1.092691</td>\n",
       "      <td>15.436541</td>\n",
       "      <td>inf</td>\n",
       "      <td>1.798943</td>\n",
       "      <td>1.118618</td>\n",
       "    </tr>\n",
       "    <tr>\n",
       "      <th>Widowed</th>\n",
       "      <td>4.452963</td>\n",
       "      <td>2.491240</td>\n",
       "      <td>23.663840</td>\n",
       "      <td>4.721842</td>\n",
       "      <td>0.154183</td>\n",
       "      <td>1.344247</td>\n",
       "      <td>0.601909</td>\n",
       "      <td>2.037025</td>\n",
       "      <td>1.192736</td>\n",
       "      <td>1.556313</td>\n",
       "      <td>...</td>\n",
       "      <td>17.889013</td>\n",
       "      <td>19.284652</td>\n",
       "      <td>25.517122</td>\n",
       "      <td>1.428723</td>\n",
       "      <td>111.199551</td>\n",
       "      <td>4.400869</td>\n",
       "      <td>13.504400</td>\n",
       "      <td>57.547920</td>\n",
       "      <td>94.570118</td>\n",
       "      <td>4.400526</td>\n",
       "    </tr>\n",
       "  </tbody>\n",
       "</table>\n",
       "<p>7 rows × 32 columns</p>\n",
       "</div>"
      ],
      "text/plain": [
       "Sex                      Female                                              \\\n",
       "Education                  10th       11th       12th    1st-4th    5th-6th   \n",
       "Martial Status                                                                \n",
       "Divorced               0.295917   0.292046  11.068693   4.208841   0.101567   \n",
       "Married-AF-spouse           inf        inf        inf        inf        inf   \n",
       "Married-civ-spouse     6.084824   0.026836   4.127556   5.726525   4.070045   \n",
       "Married-spouse-absent  3.169931  22.617021   3.467896  40.549037  39.210574   \n",
       "Never-married          0.009817   0.274541   0.107219  15.047981   2.268523   \n",
       "Separated              2.096206   3.323689   3.477968   0.974281   0.802723   \n",
       "Widowed                4.452963   2.491240  23.663840   4.721842   0.154183   \n",
       "\n",
       "Sex                                                                          \\\n",
       "Education                7th-8th        9th Assoc-acdm Assoc-voc  Bachelors   \n",
       "Martial Status                                                                \n",
       "Divorced                1.656882   5.402493   1.098319  0.535371   0.436981   \n",
       "Married-AF-spouse            inf        inf   2.878480       inf  91.037027   \n",
       "Married-civ-spouse     16.214961  13.482307   0.453669  2.485743   0.134580   \n",
       "Married-spouse-absent   2.513525  46.446290   1.270107  4.869045   2.130532   \n",
       "Never-married           2.128559   2.251820   0.413077  1.039864   0.039594   \n",
       "Separated               6.538355  15.785849   2.394327  8.564653   0.712238   \n",
       "Widowed                 1.344247   0.601909   2.037025  1.192736   1.556313   \n",
       "\n",
       "Sex                    ...       Male                                   \\\n",
       "Education              ...        9th Assoc-acdm  Assoc-voc  Bachelors   \n",
       "Martial Status         ...                                               \n",
       "Divorced               ...   2.797964   3.194051   1.693595   0.033523   \n",
       "Married-AF-spouse      ...        inf        inf  47.006098  25.525092   \n",
       "Married-civ-spouse     ...   0.724183   0.032242   0.027650   0.007332   \n",
       "Married-spouse-absent  ...  25.713382  52.228851  55.949729   1.534732   \n",
       "Never-married          ...   0.337392   0.714316   0.130120   0.061246   \n",
       "Separated              ...  11.996893   0.976216   6.147848   1.811145   \n",
       "Widowed                ...  17.889013  19.284652  25.517122   1.428723   \n",
       "\n",
       "Sex                                                                            \\\n",
       "Education               Doctorate   HS-grad    Masters  Preschool Prof-school   \n",
       "Martial Status                                                                  \n",
       "Divorced                 2.650914  0.351101   5.843538  35.355751    0.921977   \n",
       "Married-AF-spouse             inf  2.147387        inf        inf         inf   \n",
       "Married-civ-spouse       0.067182  0.003816   0.058273   0.240793    0.817915   \n",
       "Married-spouse-absent   14.659241  2.849801   5.715333  20.514625   28.310024   \n",
       "Never-married            2.044941  0.008839   0.014913   1.063404    0.101489   \n",
       "Separated               10.060460  1.092691  15.436541        inf    1.798943   \n",
       "Widowed                111.199551  4.400869  13.504400  57.547920   94.570118   \n",
       "\n",
       "Sex                                 \n",
       "Education             Some-college  \n",
       "Martial Status                      \n",
       "Divorced                  0.278326  \n",
       "Married-AF-spouse       104.514835  \n",
       "Married-civ-spouse        0.047256  \n",
       "Married-spouse-absent     4.833888  \n",
       "Never-married             0.039208  \n",
       "Separated                 1.118618  \n",
       "Widowed                   4.400526  \n",
       "\n",
       "[7 rows x 32 columns]"
      ]
     },
     "metadata": {},
     "output_type": "display_data"
    }
   ],
   "source": [
    "Ctable_MarStat_Sex_Edu = pd.crosstab(adult_data['Martial Status'], [adult_data['Sex'], adult_data['Education']], rownames = ['Martial Status'], colnames = ['Sex', 'Education'])\n",
    "tabs = Ctable_MarStat_Sex_Edu.applymap(laplace)\n",
    "display(tabs)\n",
    "errors = pct_error(Ctable_MarStat_Sex_Edu, tabs)\n",
    "display(errors)"
   ]
  },
  {
   "cell_type": "markdown",
   "metadata": {},
   "source": [
    "### Question 11 (5 points)\n",
    "\n",
    "In 5-10 sentences, answer the following:\n",
    "- What is the privacy cost of your differentially private contingency table in the last question? Why?\n",
    "- The contingency table in the last question contains 3 variables, compared to 2 in the table from earlier. Is the privacy cost for the table in the last question different from the privacy cost in Question 7? Why or why not?\n",
    "- In general, what is the effect of the number of variables in a single contingency on **privacy cost**? Why is this the case?\n",
    "- In general, what is the effect of the number of variables in a single contingency on **accuracy**? Why is this the case?"
   ]
  },
  {
   "cell_type": "markdown",
   "metadata": {},
   "source": [
    "The privacy cost of the contigency table is 1 since that is what we set our epsilon equal to. Once again, the attributes are mutually exclusive and therefore are not sequential composition. The privacy cost in the contigency table for 3 variables is also 1 since we used the same laplace mechanism with epsilon equal to 1 and the variables are mutually exclusive and therefore are not squential composition. The number of variables in a single contigency table does not affect privacy cost. This is because epsilon is determined before applying differentially private mechanisms to a query. So If epsilon is set at 1, then the privacy cost will remain at 1. If the variables were not mutually exclusive and therefore sequential composition, then the privacy cost would be different from epsion. An increase in the number of variables decreases the accuracy. This is probabaly because adding another variable partitions the dataset even more. This means that the count in each cell decreases which in turn could lead to a greater percent error. "
   ]
  },
  {
   "cell_type": "markdown",
   "metadata": {},
   "source": [
    "### Question 12 (2 points)\n",
    "\n",
    "Define a function `z_clip` that clips elements of its input to lie below `b`. You may assume that no input will be less than 0."
   ]
  },
  {
   "cell_type": "code",
   "execution_count": 11,
   "metadata": {},
   "outputs": [],
   "source": [
    "def z_clip(xs, b):\n",
    "    return xs.clip(lower = 0, upper = b)"
   ]
  },
  {
   "cell_type": "markdown",
   "metadata": {},
   "source": [
    "### Question 13 (3 points)\n",
    "\n",
    "Write code to (1) clip the values of the `Capital Gain` column of the dataset, and (2) compute the average of the clipped values. Run your code for various values of the clipping parameter `b`."
   ]
  },
  {
   "cell_type": "code",
   "execution_count": 12,
   "metadata": {},
   "outputs": [
    {
     "data": {
      "text/plain": [
       "1077.6488437087312"
      ]
     },
     "metadata": {},
     "output_type": "display_data"
    },
    {
     "data": {
      "text/plain": [
       "1028.8223027548295"
      ]
     },
     "metadata": {},
     "output_type": "display_data"
    },
    {
     "data": {
      "text/plain": [
       "979.9908786585179"
      ]
     },
     "metadata": {},
     "output_type": "display_data"
    },
    {
     "data": {
      "text/plain": [
       "931.1594545622063"
      ]
     },
     "metadata": {},
     "output_type": "display_data"
    },
    {
     "data": {
      "text/plain": [
       "882.3280304658948"
      ]
     },
     "metadata": {},
     "output_type": "display_data"
    },
    {
     "data": {
      "text/plain": [
       "833.4966063695832"
      ]
     },
     "metadata": {},
     "output_type": "display_data"
    }
   ],
   "source": [
    "cg = adult_data['Capital Gain']\n",
    "\n",
    "clipped1 = z_clip(cg, 100000)\n",
    "display(clipped1.mean())\n",
    "\n",
    "clipped2 = z_clip(cg, 90000)\n",
    "display(clipped2.mean())\n",
    "\n",
    "clipped3 = z_clip(cg, 80000)\n",
    "display(clipped3.mean())\n",
    "\n",
    "clipped4 = z_clip(cg, 70000)\n",
    "display(clipped4.mean())\n",
    "\n",
    "clipped5 = z_clip(cg, 60000)\n",
    "display(clipped5.mean())\n",
    "\n",
    "clipped6 = z_clip(cg, 50000)\n",
    "display(clipped6.mean())"
   ]
  },
  {
   "cell_type": "markdown",
   "metadata": {},
   "source": [
    "### Question 14 (5 points)\n",
    "\n",
    "Write code to return the differentially private average of `Capital Gain` parameterized by the clipping parameter `b`. Run your code for various values of `b` and use `pct_error` to determine the error introduced for each value of `b`. \n",
    "\n",
    "*Note*: Your output should look something like the triple ('b', 'answer', 'pct_error')."
   ]
  },
  {
   "cell_type": "code",
   "execution_count": 13,
   "metadata": {},
   "outputs": [
    {
     "data": {
      "text/plain": [
       "1077.638902763549"
      ]
     },
     "metadata": {},
     "output_type": "display_data"
    },
    {
     "data": {
      "text/plain": [
       "0.0009224660927642816"
      ]
     },
     "metadata": {},
     "output_type": "display_data"
    },
    {
     "data": {
      "text/plain": [
       "1028.8162884680476"
      ]
     },
     "metadata": {},
     "output_type": "display_data"
    },
    {
     "data": {
      "text/plain": [
       "0.0005845797438309156"
      ]
     },
     "metadata": {},
     "output_type": "display_data"
    },
    {
     "data": {
      "text/plain": [
       "980.0102716579163"
      ]
     },
     "metadata": {},
     "output_type": "display_data"
    },
    {
     "data": {
      "text/plain": [
       "0.0019788959081896962"
      ]
     },
     "metadata": {},
     "output_type": "display_data"
    },
    {
     "data": {
      "text/plain": [
       "931.1516601424202"
      ]
     },
     "metadata": {},
     "output_type": "display_data"
    },
    {
     "data": {
      "text/plain": [
       "0.0008370660629549923"
      ]
     },
     "metadata": {},
     "output_type": "display_data"
    },
    {
     "data": {
      "text/plain": [
       "882.3251878265894"
      ]
     },
     "metadata": {},
     "output_type": "display_data"
    },
    {
     "data": {
      "text/plain": [
       "0.00032217488363282413"
      ]
     },
     "metadata": {},
     "output_type": "display_data"
    },
    {
     "data": {
      "text/plain": [
       "833.4994964350815"
      ]
     },
     "metadata": {},
     "output_type": "display_data"
    },
    {
     "data": {
      "text/plain": [
       "0.0003467399238554363"
      ]
     },
     "metadata": {},
     "output_type": "display_data"
    }
   ],
   "source": [
    "dp_clipped1 = clipped1.apply(laplace)\n",
    "display(dp_clipped1.mean())\n",
    "display(pct_error(clipped1.mean(), dp_clipped1.mean()))\n",
    "\n",
    "dp_clipped2 = clipped2.apply(laplace)\n",
    "display(dp_clipped2.mean())\n",
    "display(pct_error(clipped2.mean(), dp_clipped2.mean()))\n",
    "\n",
    "\n",
    "dp_clipped3 = clipped3.apply(laplace)\n",
    "display(dp_clipped3.mean())\n",
    "display(pct_error(clipped3.mean(), dp_clipped3.mean()))\n",
    "\n",
    "\n",
    "dp_clipped4 = clipped4.apply(laplace)\n",
    "display(dp_clipped4.mean())\n",
    "display(pct_error(clipped4.mean(), dp_clipped4.mean()))\n",
    "\n",
    "\n",
    "dp_clipped5 = clipped5.apply(laplace)\n",
    "display(dp_clipped5.mean())\n",
    "display(pct_error(clipped5.mean(), dp_clipped5.mean()))\n",
    "\n",
    "\n",
    "dp_clipped6 = clipped6.apply(laplace)\n",
    "display(dp_clipped6.mean())\n",
    "display(pct_error(clipped6.mean(), dp_clipped6.mean()))\n"
   ]
  },
  {
   "cell_type": "markdown",
   "metadata": {},
   "source": [
    "### Question 15 (5 points)\n",
    "\n",
    "In 5-10 sentences, answer the following:\n",
    "\n",
    "- In Question 13, at approximately what value of the clipping parameter `b` does the clipped average approach the original (un-clipped) average?\n",
    "- What is the sensitivity of the clipped average at this value of `b`, and why?\n",
    "- In Question 14, at approximately what value of the clipping parameter `b` is the error minimized?\n",
    "- Which seems to be more important for accuracy - the value of `b` or the scale of the noise added? Why?\n",
    "- Do you think the answer to the previous point will be true for every dataset? Why or why not?"
   ]
  },
  {
   "cell_type": "markdown",
   "metadata": {},
   "source": [
    "When b is equal to 100000, the average is closest to the un-clipped average. This is because the max capital gain is 99999 so a clipping parameter of 100000 includes 100% of the data. The sensitivity in this case is 100000 since it is what we set our clipping parameter to and is therefore the highest possible value. When b is equal to 100000, the error is minimized the most. This is probabaly because 100% of the data in the capital gain attribute is included. The scale of  of the noise seems to be more important since this determines how differentially private the results will be. In other words, if we decreased the epsilon value, the results would be more privatized but less accurate. Therefore it is once again a tradeoff between privacy and utility. This is potentially true for every data set since the scale of noise is a function of privacy cost and this determines how much the privatized results change from the original. "
   ]
  },
  {
   "cell_type": "markdown",
   "metadata": {},
   "source": [
    "### Question 16 (10 points)\n",
    "\n",
    "Write a function `auto_avg` that returns the differentially private average of an array of values `xs`. Your function should **automatically** determine the clipping parameter `b`, and should enforce differential privacy for a **total** privacy cost of `epsilon`."
   ]
  },
  {
   "cell_type": "code",
   "execution_count": 14,
   "metadata": {},
   "outputs": [
    {
     "data": {
      "text/plain": [
       "1077.6466524726052"
      ]
     },
     "execution_count": 14,
     "metadata": {},
     "output_type": "execute_result"
    }
   ],
   "source": [
    "epsilon = 1\n",
    "def auto_avg(xs, epsilon):\n",
    "    b = xs.max() + 100\n",
    "    sensitivity = 1\n",
    "    clipped = xs.clip(lower = 0, upper = b)\n",
    "    dp_array = [v + np.random.laplace(loc=0, scale=sensitivity / epsilon) for v in clipped]\n",
    "    sum_num = 0\n",
    "    for i in dp_array:\n",
    "        sum_num = sum_num + i\n",
    "    dp_avg = sum_num/len(dp_array)\n",
    "    return dp_avg\n",
    "auto_avg(adult_data['Capital Gain'], epsilon)"
   ]
  },
  {
   "cell_type": "markdown",
   "metadata": {},
   "source": [
    "### Question 17 (8 points)\n",
    "\n",
    "In 5-10 sentences, answer the following:\n",
    "- Summarize (1-2 sentences only) your approach in `auto_avg`.\n",
    "- Briefly argue that your implementation has privacy cost of `epsilon`.\n",
    "- How close is your function able to get to the \"best\" result you got in Question 14? What accounts for the difference?\n",
    "- Will your approach work well for **all** datasets? If not, describe a dataset for which it is likely to return very inaccurate results."
   ]
  },
  {
   "cell_type": "markdown",
   "metadata": {},
   "source": [
    "We set the clipping parmaeter to include 100 percent of the data in any specified attribute. Apply laplace to each value in the data set and store it in an array. Epsilon and sensitivity is set to 1 such that the scale equals 1. The privacy cost would be epsilon=1 in this case since the the attributes in the adult data are mutually exclusive and therefore not sequential composition. Once the array has been compiled, we take the average of all the elements. This approach may not work for all data sets since some attributes may be unbounded.  "
   ]
  },
  {
   "cell_type": "markdown",
   "metadata": {},
   "source": [
    "### Question 18 (3 points)\n",
    "\n",
    "Consider the code below, which graphs the total privacy cost of an averaging attack under (1) sequential composition and (2) advanced composition, for values of `k` between 1 and 200."
   ]
  },
  {
   "cell_type": "code",
   "execution_count": 15,
   "metadata": {},
   "outputs": [
    {
     "data": {
      "image/png": "[encoded data removed]",
      "text/plain": [
       "<Figure size 432x288 with 1 Axes>"
      ]
     },
     "metadata": {},
     "output_type": "display_data"
    }
   ],
   "source": [
    "epsilon = .1\n",
    "delta_p = 1e-5\n",
    "\n",
    "def query():\n",
    "    return len(adult_data[adult_data['Martial Status'] == 'Divorced'])\n",
    "\n",
    "def avg_attack(k):\n",
    "    return np.mean([laplace_mech(query(), 1, epsilon) for i in range(k)])\n",
    "    \n",
    "xs = range(1, 200)\n",
    "privacy_cost_sequential = [k * epsilon for k in xs]\n",
    "privacy_cost_advanced = [2 * epsilon * np.sqrt(2 * k * np.log(1/delta_p)) for k in xs]\n",
    "\n",
    "plt.plot(xs, privacy_cost_sequential);\n",
    "plt.plot(xs, privacy_cost_advanced);"
   ]
  },
  {
   "cell_type": "markdown",
   "metadata": {},
   "source": [
    "In 2-5 sentences, answer the following:\n",
    "- At approximately what point do the lines representing the two approaches cross? What does this mean about **which** composition technique should be used for an iterative algorithm?\n",
    "- The two lines represent **different** privacy costs for the **same** algorithm. How can both be correct?"
   ]
  },
  {
   "cell_type": "markdown",
   "metadata": {},
   "source": [
    "They cross at around (90,9.0) which implies that advanced composition should be used. This is because the graph is within the upper bound of sequential and therefore has a lower privacy cost. Sequential can be useful since it can have loosely set upper bounds but this is is not always accurate. Advanced composition can reduce privacy cost and is therefore better for multiple iterations. With this in mind, both sequential and advanced can be correct depending on the scenario and number of iterations run."
   ]
  },
  {
   "cell_type": "markdown",
   "metadata": {},
   "source": [
    "### Question 19 (3 points)\n",
    "\n",
    "In the cell below, define a function that implements the vector version of the Laplace mechanism. An implementation that works for a single number is defined for reference as `laplace_mech` above."
   ]
  },
  {
   "cell_type": "code",
   "execution_count": 16,
   "metadata": {},
   "outputs": [],
   "source": [
    "def laplace_mech_vec(qs, sensitivity, epsilon):\n",
    "    sensitivity = 1\n",
    "    epsilon = .1\n",
    "    return [v + np.random.laplace(loc=0, scale=sensitivity / epsilon) for v in qs]\n",
    " "
   ]
  },
  {
   "cell_type": "markdown",
   "metadata": {},
   "source": [
    "### Question 20 (3 points)\n",
    "\n",
    "In the cell below, define a function that implements the vector version of the Gaussian mechanism."
   ]
  },
  {
   "cell_type": "code",
   "execution_count": 17,
   "metadata": {},
   "outputs": [],
   "source": [
    "def gaussian_mech_vec(qs, sensitivity, epsilon, delta):\n",
    "    epsilon = .1\n",
    "    delta = 10e-5\n",
    "    sensitivity = np.sqrt(2 * np.log(1.25 / delta)) * 1\n",
    "    sigma = sensitivity/epsilon\n",
    "    return [x +np.random.normal(loc=0, scale=sigma) for x in qs]\n"
   ]
  },
  {
   "cell_type": "markdown",
   "metadata": {},
   "source": [
    "### Question 21 (4 points)\n",
    "\n",
    "Consider the code below, which defines three average queries and runs them on `adult_data`."
   ]
  },
  {
   "cell_type": "code",
   "execution_count": 18,
   "metadata": {},
   "outputs": [
    {
     "data": {
      "text/plain": [
       "32561"
      ]
     },
     "metadata": {},
     "output_type": "display_data"
    },
    {
     "data": {
      "text/plain": [
       "[235.98968090660605, 2013.803599398053, 38.58164675532078]"
      ]
     },
     "execution_count": 18,
     "metadata": {},
     "output_type": "execute_result"
    }
   ],
   "source": [
    "b_capgain = 3000\n",
    "b_year = 3000\n",
    "b_age = 3000\n",
    "\n",
    "epsilon = 1\n",
    "n = len(adult_data)\n",
    "display(n)\n",
    "def query1():\n",
    "    return np.sum(z_clip(adult_data['Capital Gain'], b_capgain))/n\n",
    "\n",
    "def query2():\n",
    "    return np.sum(z_clip(adult_data['DOB'].dt.year, b_year))/n\n",
    "\n",
    "def query3():\n",
    "    return np.sum(z_clip(adult_data['Age'], b_age))/n\n",
    "\n",
    "def my_query():\n",
    "    return [query1(), query2(), query3()]\n",
    "\n",
    "my_query()"
   ]
  },
  {
   "cell_type": "markdown",
   "metadata": {},
   "source": [
    "In 2-5 sentences, answer the following:\n",
    "- What is the $L_1$ sensitivity of `my_query`, and why?\n",
    "- What is the $L_2$ sensitivity of `my_query`, and why?"
   ]
  },
  {
   "cell_type": "code",
   "execution_count": 19,
   "metadata": {},
   "outputs": [
    {
     "data": {
      "text/plain": [
       "0.27640428733761246"
      ]
     },
     "metadata": {},
     "output_type": "display_data"
    },
    {
     "data": {
      "text/plain": [
       "0.15958208969953724"
      ]
     },
     "metadata": {},
     "output_type": "display_data"
    }
   ],
   "source": [
    "3000/32561\n",
    "L1 = (3*(3000/32561)) # This is because the clipping parameter is 3000 for all 3 queries and they are all from the same data set so n is the same for all 3 queries. \n",
    "L2 = (3*((3000/32561)**2))**(0.5) # This is similar to L1 in the sense that clipping parameter, number of queries, and length of data is taken into account.\n",
    "# In the case of L2 the sensitivity is calculated to a reduced value. \n",
    "display(L1)\n",
    "display(L2)\n"
   ]
  },
  {
   "cell_type": "markdown",
   "metadata": {},
   "source": [
    "### Question 22 (6 points)\n",
    "\n",
    "In the cell below, write code to release the results of calling `my_query()` with differential privacy, without using sequential composition.\n",
    "\n",
    "*Hint*: use `laplace_mech_vec`, but be careful of sensitivity!"
   ]
  },
  {
   "cell_type": "code",
   "execution_count": 22,
   "metadata": {},
   "outputs": [
    {
     "data": {
      "text/plain": [
       "[246.5831191293906, 1999.8555608006309, 39.321300330045574]"
      ]
     },
     "execution_count": 22,
     "metadata": {},
     "output_type": "execute_result"
    }
   ],
   "source": [
    "sensitivity = 1\n",
    "qs = my_query()\n",
    "laplace_mech_vec(qs, sensitivity, epsilon)"
   ]
  },
  {
   "cell_type": "markdown",
   "metadata": {},
   "source": [
    "### Question 23 (4 points)\n",
    "\n",
    "In 2-5 sentences, answer the following:\n",
    "- What is the total privacy cost of your answer to Question 22, and why?\n",
    "The total privacy cost in 22 is 0.1. This is beacuse we set epsilon equal to 0.1. The values in the my_query() are mutually exclusive and therefore are not sequential composition. This is more differentially private as compared to the previous questions where epsilon was set to 1. However, the lower epsilon yields less accurate results which could affect utility. "
   ]
  },
  {
   "cell_type": "markdown",
   "metadata": {},
   "source": [
    "### Question 24 (6 points)\n",
    "\n",
    "In the cell below, write code to release the results of `my_query()` with differential privacy, but using the Gaussian mechanism."
   ]
  },
  {
   "cell_type": "code",
   "execution_count": 21,
   "metadata": {},
   "outputs": [
    {
     "data": {
      "text/plain": [
       "[244.6724091928706, 1991.9297848093443, 34.49779873885377]"
      ]
     },
     "execution_count": 21,
     "metadata": {},
     "output_type": "execute_result"
    }
   ],
   "source": [
    "delta = 10e-5\n",
    "sensitivity = np.sqrt(2 * np.log(1.25 / delta)) * 1\n",
    "qs = my_query()\n",
    "gaussian_mech_vec(qs, sensitivity, epsilon, delta)"
   ]
  },
  {
   "cell_type": "code",
   "execution_count": null,
   "metadata": {},
   "outputs": [],
   "source": []
  }
 ],
 "metadata": {
  "kernelspec": {
   "display_name": "Python 3",
   "language": "python",
   "name": "python3"
  },
  "language_info": {
   "codemirror_mode": {
    "name": "ipython",
    "version": 3
   },
   "file_extension": ".py",
   "mimetype": "text/x-python",
   "name": "python",
   "nbconvert_exporter": "python",
   "pygments_lexer": "ipython3",
   "version": "3.7.6"
  }
 },
 "nbformat": 4,
 "nbformat_minor": 2
}
